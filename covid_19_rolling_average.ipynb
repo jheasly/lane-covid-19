{
 "cells": [
  {
   "cell_type": "code",
   "execution_count": 9,
   "metadata": {},
   "outputs": [],
   "source": [
    "import pandas as pd\n",
    "\n",
    "from data_overrides import lane_count_fixes\n",
    "\n",
    "states_counties = (\n",
    "    ('Missouri',     'St. Charles',),\n",
    "    ('Missouri',     'St. Louis',),\n",
    "    ('Oregon',       'Lane',),\n",
    "    ('Oregon',       'Marion',),\n",
    "    ('Oregon',       'Polk',),\n",
    "    ('Pennsylvania', 'Bucks',),\n",
    ")"
   ]
  },
  {
   "cell_type": "code",
   "execution_count": 10,
   "metadata": {},
   "outputs": [
    {
     "name": "stdout",
     "output_type": "stream",
     "text": [
      "           state   county    mydate    pop  fullfips  confirmed  deaths  cday  \\\n",
      "0        Alabama  Autauga  20200122  55869    1001.0          0       0     0   \n",
      "1        Alabama  Autauga  20200123  55869    1001.0          0       0     0   \n",
      "2        Alabama  Autauga  20200124  55869    1001.0          0       0     0   \n",
      "3        Alabama  Autauga  20200125  55869    1001.0          0       0     0   \n",
      "4        Alabama  Autauga  20200126  55869    1001.0          0       0     0   \n",
      "...          ...      ...       ...    ...       ...        ...     ...   ...   \n",
      "2880799  Wyoming   Weston  20220528   6927   56045.0       1590      18     0   \n",
      "2880800  Wyoming   Weston  20220529   6927   56045.0       1590      18     0   \n",
      "2880801  Wyoming   Weston  20220530   6927   56045.0       1590      18     0   \n",
      "2880802  Wyoming   Weston  20220531   6927   56045.0       1594      18     4   \n",
      "2880803  Wyoming   Weston  20220601   6927   56045.0       1594      18     0   \n",
      "\n",
      "         dday  cweek  dweek  \n",
      "0           0      0      0  \n",
      "1           0      0      0  \n",
      "2           0      0      0  \n",
      "3           0      0      0  \n",
      "4           0      0      0  \n",
      "...       ...    ...    ...  \n",
      "2880799     0      2      0  \n",
      "2880800     0      2      0  \n",
      "2880801     0      2      0  \n",
      "2880802     0      4      0  \n",
      "2880803     0      4      0  \n",
      "\n",
      "[2880804 rows x 11 columns]\n"
     ]
    }
   ],
   "source": [
    "# raw_list = pd.read_csv(\"~/Downloads/dailyreport-latest.csv\")\n",
    "raw_list = pd.read_csv(\"https://irma.gatehousemedia.com/misc/20200417-covid-county-analysis/dailyreport-latest.csv\")\n",
    "# convert the eight-digit integer to a datey objecty thingy\n",
    "raw_list['mydate'] = pd.to_datetime(raw_list['mydate'], format='%Y%m%d')\n",
    "\n",
    "# lane_count_fixes = pd.read_csv(\"data_overrides.csv\")\n",
    "\n",
    "# LCPH daily release of Lane County counts has stopped, so skipping LCPH fixes; May 16, 2022\n",
    "# for lane_count_fix in lane_count_fixes:\n",
    "#     raw_list.loc[(raw_list['mydate'] == lane_count_fix[0]) & (raw_list['state'] == 'Oregon') & (raw_list['county'] == 'Lane'), 'cday'] = lane_count_fix[1]\n",
    "    "
   ]
  },
  {
   "cell_type": "code",
   "execution_count": 11,
   "metadata": {},
   "outputs": [],
   "source": [
    "# Some pandas tricks ... \n",
    "# raw_list.head()\n",
    "# raw_list.state.value_counts()\n",
    "# raw_list.shape"
   ]
  },
  {
   "cell_type": "code",
   "execution_count": 12,
   "metadata": {},
   "outputs": [],
   "source": [
    "for state_county in states_counties:\n",
    "    lc_or = raw_list.loc[(raw_list['state'] == state_county[0]) & (raw_list['county'] == state_county[1]) & (raw_list['mydate'] > '2020-02-29')]\n",
    "\n",
    "    # Use copy() method, otherwise the new DataFrame is a \"slice\" of the original\n",
    "    # https://stackoverflow.com/questions/60639531/a-value-is-trying-to-be-set-on-a-copy-of-a-slice-from-a-dataframe-using-pandas\n",
    "    lc_or_select = lc_or[['mydate', 'cday', 'dday']].copy()\n",
    "    lc_or_select['ma'] = lc_or_select['cday'].rolling(7).mean()\n",
    "    lc_or_select.to_csv('{}{}.csv'.format(state_county[0], state_county[1]), index=False)"
   ]
  }
 ],
 "metadata": {
  "kernelspec": {
   "display_name": "Python 3 (ipykernel)",
   "language": "python",
   "name": "python3"
  },
  "language_info": {
   "codemirror_mode": {
    "name": "ipython",
    "version": 3
   },
   "file_extension": ".py",
   "mimetype": "text/x-python",
   "name": "python",
   "nbconvert_exporter": "python",
   "pygments_lexer": "ipython3",
   "version": "3.8.9"
  }
 },
 "nbformat": 4,
 "nbformat_minor": 4
}
