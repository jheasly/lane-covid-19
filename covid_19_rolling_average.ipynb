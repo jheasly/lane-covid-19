{
 "cells": [
  {
   "cell_type": "code",
   "execution_count": 17,
   "metadata": {},
   "outputs": [],
   "source": [
    "import pandas as pd\n",
    "\n",
    "# I don't know why, but OHA and Lane County daily case counts often disagree.\n",
    "lane_count_fixes = (\n",
    "    ('2020-07-18', 40,),\n",
    "    ('2020-07-20', 5,),\n",
    "    ('2020-07-21', 7,),\n",
    "    ('2020-07-23', 7,),\n",
    "    ('2020-07-24', 18,),\n",
    "    ('2020-07-25', 4,),\n",
    "    ('2020-07-26', 9,),\n",
    "    ('2020-07-27', 8,),\n",
    "    ('2020-07-31', 19,),\n",
    "    ('2020-08-01', 12,),\n",
    "    ('2020-08-02', 3,),\n",
    "    ('2020-08-03', 10,),\n",
    "    ('2020-08-04', 8,),\n",
    "    ('2020-08-05', 7,),\n",
    "    ('2020-08-06', 9,),\n",
    "    ('2020-08-07', 18,),\n",
    "    ('2020-08-08', 10,),\n",
    "    ('2020-08-09', 9,),\n",
    "    ('2020-08-10', 1,),\n",
    "    ('2020-08-11', 7,),\n",
    "    ('2020-08-12', 9,),\n",
    "    ('2020-08-13', 5,),\n",
    "    ('2020-08-14', 9,),\n",
    "    ('2020-08-15', 3,),\n",
    "    ('2020-08-16', 2,),\n",
    "    ('2020-08-17', 5,),\n",
    "    ('2020-08-18', 7,),\n",
    "    ('2020-08-19', 4,),\n",
    "    ('2020-08-20', 2,),\n",
    "    ('2020-08-21', 5,),\n",
    "    ('2020-08-22', 6,),\n",
    "    ('2020-08-23', 2,),\n",
    "    ('2020-08-24', 2,),\n",
    "    ('2020-08-25', 3,),\n",
    "    ('2020-08-26', 6,),\n",
    ")\n",
    "\n",
    "states_counties = (\n",
    "    ('Missouri',     'St. Louis',),\n",
    "    ('Oregon',       'Lane',),\n",
    "    ('Oregon',       'Marion',),\n",
    "    ('Oregon',       'Polk',),\n",
    "    ('Pennsylvania', 'Bucks',),\n",
    ")"
   ]
  },
  {
   "cell_type": "code",
   "execution_count": 18,
   "metadata": {},
   "outputs": [],
   "source": [
    "# raw_list = pd.read_csv(\"~/Downloads/dailyreport-latest.csv\")\n",
    "raw_list = pd.read_csv(\"https://irma.gatehousemedia.com/misc/20200417-covid-county-analysis/dailyreport-latest.csv\")\n",
    "\n",
    "# convert the eight-digit integer to a datey objecty thingy\n",
    "raw_list['mydate'] = pd.to_datetime(raw_list['mydate'], format='%Y%m%d')\n",
    "\n",
    "for lane_count_fix in lane_count_fixes:\n",
    "    raw_list.loc[(raw_list['mydate'] == lane_count_fix[0]) & (raw_list['state'] == 'Oregon') & (raw_list['county'] == 'Lane'), 'cday'] = lane_count_fix[1]\n",
    "    "
   ]
  },
  {
   "cell_type": "code",
   "execution_count": 19,
   "metadata": {},
   "outputs": [],
   "source": [
    "# Some pandas tricks ... \n",
    "# raw_list.head()\n",
    "# raw_list.state.value_counts()"
   ]
  },
  {
   "cell_type": "code",
   "execution_count": 20,
   "metadata": {},
   "outputs": [],
   "source": [
    "for state_county in states_counties:\n",
    "    lc_or = raw_list.loc[(raw_list['state'] == state_county[0]) & (raw_list['county'] == state_county[1]) & (raw_list['mydate'] > '2020-02-29')]\n",
    "\n",
    "    # Use copy() method, otherwise the new DataFrame is a \"slice\" of the original\n",
    "    # https://stackoverflow.com/questions/60639531/a-value-is-trying-to-be-set-on-a-copy-of-a-slice-from-a-dataframe-using-pandas\n",
    "    lc_or_select = lc_or[['mydate', 'cday', 'dday']].copy()\n",
    "    lc_or_select['ma'] = lc_or_select['cday'].rolling(7).mean()\n",
    "    lc_or_select.to_csv('{}{}.csv'.format(state_county[0], state_county[1]), index=False)"
   ]
  },
  {
   "cell_type": "code",
   "execution_count": null,
   "metadata": {},
   "outputs": [],
   "source": []
  }
 ],
 "metadata": {
  "kernelspec": {
   "display_name": "Python 3",
   "language": "python",
   "name": "python3"
  },
  "language_info": {
   "codemirror_mode": {
    "name": "ipython",
    "version": 3
   },
   "file_extension": ".py",
   "mimetype": "text/x-python",
   "name": "python",
   "nbconvert_exporter": "python",
   "pygments_lexer": "ipython3",
   "version": "3.8.3"
  }
 },
 "nbformat": 4,
 "nbformat_minor": 4
}
