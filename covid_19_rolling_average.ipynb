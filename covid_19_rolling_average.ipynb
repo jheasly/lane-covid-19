{
 "cells": [
  {
   "cell_type": "code",
   "execution_count": 1,
   "metadata": {},
   "outputs": [],
   "source": [
    "import pandas as pd\n",
    "\n",
    "from data_overrides import lane_count_fixes\n",
    "\n",
    "states_counties = (\n",
    "    ('Missouri',     'St. Charles',),\n",
    "    ('Missouri',     'St. Louis',),\n",
    "    ('Oregon',       'Lane',),\n",
    "    ('Oregon',       'Marion',),\n",
    "    ('Oregon',       'Polk',),\n",
    "    ('Pennsylvania', 'Bucks',),\n",
    ")"
   ]
  },
  {
   "cell_type": "code",
   "execution_count": 2,
   "metadata": {},
   "outputs": [],
   "source": [
    "# raw_list = pd.read_csv(\"~/Downloads/dailyreport-latest.csv\")\n",
    "raw_list = pd.read_csv(\"https://irma.gatehousemedia.com/misc/20200417-covid-county-analysis/dailyreport-latest.csv\")\n",
    "\n",
    "# convert the eight-digit integer to a datey objecty thingy\n",
    "raw_list['mydate'] = pd.to_datetime(raw_list['mydate'], format='%Y%m%d')\n",
    "\n",
    "# lane_count_fixes = pd.read_csv(\"data_overrides.csv\")\n",
    "\n",
    "for lane_count_fix in lane_count_fixes:\n",
    "    raw_list.loc[(raw_list['mydate'] == lane_count_fix[0]) & (raw_list['state'] == 'Oregon') & (raw_list['county'] == 'Lane'), 'cday'] = lane_count_fix[1]\n",
    "    "
   ]
  },
  {
   "cell_type": "code",
   "execution_count": 3,
   "metadata": {},
   "outputs": [],
   "source": [
    "# Some pandas tricks ... \n",
    "# raw_list.head()\n",
    "# raw_list.state.value_counts()\n",
    "# raw_list.shape"
   ]
  },
  {
   "cell_type": "code",
   "execution_count": 4,
   "metadata": {},
   "outputs": [],
   "source": [
    "for state_county in states_counties:\n",
    "    lc_or = raw_list.loc[(raw_list['state'] == state_county[0]) & (raw_list['county'] == state_county[1]) & (raw_list['mydate'] > '2020-02-29')]\n",
    "\n",
    "    # Use copy() method, otherwise the new DataFrame is a \"slice\" of the original\n",
    "    # https://stackoverflow.com/questions/60639531/a-value-is-trying-to-be-set-on-a-copy-of-a-slice-from-a-dataframe-using-pandas\n",
    "    lc_or_select = lc_or[['mydate', 'cday', 'dday']].copy()\n",
    "    lc_or_select['ma'] = lc_or_select['cday'].rolling(7).mean()\n",
    "    lc_or_select.to_csv('{}{}.csv'.format(state_county[0], state_county[1]), index=False)"
   ]
  }
 ],
 "metadata": {
  "kernelspec": {
   "display_name": "Python 3",
   "language": "python",
   "name": "python3"
  },
  "language_info": {
   "codemirror_mode": {
    "name": "ipython",
    "version": 3
   },
   "file_extension": ".py",
   "mimetype": "text/x-python",
   "name": "python",
   "nbconvert_exporter": "python",
   "pygments_lexer": "ipython3",
   "version": "3.8.9"
  }
 },
 "nbformat": 4,
 "nbformat_minor": 4
}
